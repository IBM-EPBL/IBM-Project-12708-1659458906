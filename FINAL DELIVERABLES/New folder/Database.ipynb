{
  "nbformat": 4,
  "nbformat_minor": 0,
  "metadata": {
    "colab": {
      "provenance": []
    },
    "kernelspec": {
      "name": "python3",
      "display_name": "Python 3"
    },
    "language_info": {
      "name": "python"
    }
  },
  "cells": [
    {
      "cell_type": "code",
      "source": [
        " from cloudant.client import Cloudant\n"
      ],
      "metadata": {
        "id": "Z63trzD3HHNk"
      },
      "execution_count": 5,
      "outputs": []
    },
    {
      "cell_type": "code",
      "source": [
        "client = Cloudant.iam('98670b3a-4a3d-4ab0-9b2a-7401e3cc40c5-bluemix','SZPLZWF3aNSdIGZgraCkSDIKfBj8dnxNxps4PoENdr1H',connect = True)"
      ],
      "metadata": {
        "id": "rjoCIricHxyw"
      },
      "execution_count": 6,
      "outputs": []
    },
    {
      "cell_type": "code",
      "source": [
        "my_database = client.create_database('my_database')"
      ],
      "metadata": {
        "id": "1m7yGkCSMMVW"
      },
      "execution_count": 7,
      "outputs": []
    },
    {
      "cell_type": "code",
      "source": [],
      "metadata": {
        "id": "YdvGK11XMqp_"
      },
      "execution_count": null,
      "outputs": []
    }
  ]
}